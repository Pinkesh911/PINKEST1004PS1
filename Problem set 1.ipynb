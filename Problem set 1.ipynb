{
 "cells": [
  {
   "cell_type": "markdown",
   "id": "a4e28fad",
   "metadata": {},
   "source": [
    "# Question 1"
   ]
  },
  {
   "cell_type": "markdown",
   "id": "83a62651",
   "metadata": {},
   "source": [
    "What data type is each of the following?"
   ]
  },
  {
   "cell_type": "code",
   "execution_count": 7,
   "id": "75421653",
   "metadata": {},
   "outputs": [
    {
     "name": "stdout",
     "output_type": "stream",
     "text": [
      "<class 'int'>\n"
     ]
    }
   ],
   "source": [
    "p=5\n",
    "print(type(p))"
   ]
  },
  {
   "cell_type": "code",
   "execution_count": 6,
   "id": "4b5a9d10",
   "metadata": {},
   "outputs": [
    {
     "name": "stdout",
     "output_type": "stream",
     "text": [
      "<class 'float'>\n"
     ]
    }
   ],
   "source": [
    "p = 5.0\n",
    "print(type(p))"
   ]
  },
  {
   "cell_type": "code",
   "execution_count": 9,
   "id": "44212467",
   "metadata": {},
   "outputs": [
    {
     "name": "stdout",
     "output_type": "stream",
     "text": [
      "<class 'bool'>\n"
     ]
    }
   ],
   "source": [
    "p = 5 > 1\n",
    "print(type(p))"
   ]
  },
  {
   "cell_type": "code",
   "execution_count": 10,
   "id": "38ff9a06",
   "metadata": {},
   "outputs": [
    {
     "name": "stdout",
     "output_type": "stream",
     "text": [
      "<class 'str'>\n"
     ]
    }
   ],
   "source": [
    "p = '5'\n",
    "print(type(p))"
   ]
  },
  {
   "cell_type": "code",
   "execution_count": 12,
   "id": "3a9a6a2d",
   "metadata": {},
   "outputs": [
    {
     "name": "stdout",
     "output_type": "stream",
     "text": [
      "<class 'int'>\n"
     ]
    }
   ],
   "source": [
    "p = 5 * 2 \n",
    "print(type(p))"
   ]
  },
  {
   "cell_type": "code",
   "execution_count": 13,
   "id": "87793705",
   "metadata": {},
   "outputs": [
    {
     "name": "stdout",
     "output_type": "stream",
     "text": [
      "<class 'str'>\n"
     ]
    }
   ],
   "source": [
    "p = '5' * 2\n",
    "print(type(p))"
   ]
  },
  {
   "cell_type": "code",
   "execution_count": 15,
   "id": "4ae0430d",
   "metadata": {},
   "outputs": [
    {
     "name": "stdout",
     "output_type": "stream",
     "text": [
      "<class 'str'>\n"
     ]
    }
   ],
   "source": [
    "p = '5' + '2'\n",
    "print(type(p))"
   ]
  },
  {
   "cell_type": "code",
   "execution_count": 16,
   "id": "5be6275c",
   "metadata": {},
   "outputs": [
    {
     "name": "stdout",
     "output_type": "stream",
     "text": [
      "<class 'float'>\n"
     ]
    }
   ],
   "source": [
    "p= 5 / 2 \n",
    "print(type(p))"
   ]
  },
  {
   "cell_type": "code",
   "execution_count": 17,
   "id": "62077644",
   "metadata": {},
   "outputs": [
    {
     "name": "stdout",
     "output_type": "stream",
     "text": [
      "<class 'int'>\n"
     ]
    }
   ],
   "source": [
    "p = 5%2\n",
    "print(type(p))"
   ]
  },
  {
   "cell_type": "code",
   "execution_count": 18,
   "id": "3bdd16f0",
   "metadata": {},
   "outputs": [
    {
     "name": "stdout",
     "output_type": "stream",
     "text": [
      "<class 'set'>\n"
     ]
    }
   ],
   "source": [
    "p = {5,2,1}\n",
    "print(type(p))"
   ]
  },
  {
   "cell_type": "code",
   "execution_count": 19,
   "id": "aa8287f4",
   "metadata": {},
   "outputs": [
    {
     "name": "stdout",
     "output_type": "stream",
     "text": [
      "<class 'set'>\n"
     ]
    }
   ],
   "source": [
    "p == 3 \n",
    "print(type(p))"
   ]
  },
  {
   "cell_type": "code",
   "execution_count": 22,
   "id": "8ed60a5f",
   "metadata": {},
   "outputs": [
    {
     "name": "stdout",
     "output_type": "stream",
     "text": [
      "<class 'float'>\n"
     ]
    }
   ],
   "source": [
    "import math\n",
    "print(type(math.pi))"
   ]
  },
  {
   "cell_type": "markdown",
   "id": "8df768c7",
   "metadata": {},
   "source": [
    "# Question 2 "
   ]
  },
  {
   "cell_type": "markdown",
   "id": "c43b9fc5",
   "metadata": {},
   "source": [
    "Write (and evaluate) python expressions that answer these questions:\n",
    "\n",
    "a. How many letters are there in 'Supercalifragilisticexpialidocious'?\n",
    "\n",
    "b. Does 'Supercalifragilisticexpialidocious' contain 'ice' as a substring?\n",
    "\n",
    "c. Which of the following words is the longest:\n",
    "Supercalifragilisticexpialidocious, Honorificabilitudinitatibus, or\n",
    "Bababadalgharaghtakamminarronnkonn?\n",
    "\n",
    "d. Which composer comes first in the dictionary: 'Berlioz', 'Borodin', 'Brian',\n",
    "'Bartok', 'Bellini', 'Buxtehude', 'Bernstein'. Which one comes last?\n"
   ]
  },
  {
   "cell_type": "code",
   "execution_count": 1,
   "id": "bf8d7ad4",
   "metadata": {},
   "outputs": [
    {
     "data": {
      "text/plain": [
       "34"
      ]
     },
     "execution_count": 1,
     "metadata": {},
     "output_type": "execute_result"
    }
   ],
   "source": [
    "p = 'supercalifragilisticexpialidocious'\n",
    "\n",
    "len(p) #Answer for 2a"
   ]
  },
  {
   "cell_type": "code",
   "execution_count": 34,
   "id": "4efbc351",
   "metadata": {},
   "outputs": [
    {
     "name": "stdout",
     "output_type": "stream",
     "text": [
      "ice is a substring of p\n"
     ]
    }
   ],
   "source": [
    "p = 'Supercalifragilisticexpialidocious'\n",
    "\n",
    "s = 'ice'\n",
    "\n",
    "if s in p:\n",
    "    print(\"ice is a substring of p\")\n",
    "    \n",
    "else: \n",
    "    \n",
    "    print(\"ice is not a substring of p\")"
   ]
  },
  {
   "cell_type": "code",
   "execution_count": 2,
   "id": "83a84efc",
   "metadata": {},
   "outputs": [
    {
     "name": "stdout",
     "output_type": "stream",
     "text": [
      "The longest word is: Supercalifragilisticexpialidocious\n"
     ]
    }
   ],
   "source": [
    "x=\"Supercalifragilisticexpialidocious\" \n",
    "y=\"Honorificabilitudinitatibus\" \n",
    "z=\"Bababadalgharaghtakamminarronnkonn\"\n",
    "\n",
    "if x > y and x > z:\n",
    "    print(\"The longest word is:\",x)\n",
    "    \n",
    "elif y > x and y > z:\n",
    "    print(\"The longest word is:\",y)\n",
    "    \n",
    "else :\n",
    "    print(\"The longest word is:\",z)\n",
    "# Answer of 2c"
   ]
  },
  {
   "cell_type": "code",
   "execution_count": 75,
   "id": "96cbe03d",
   "metadata": {},
   "outputs": [
    {
     "name": "stdout",
     "output_type": "stream",
     "text": [
      "['Bartok', 'Bellini', 'Berlioz', 'Bernstein', 'Borodin', 'Brian', 'Buxtehude']\n"
     ]
    }
   ],
   "source": [
    "p= ['Berlioz', 'Borodin', 'Brian', 'Bartok', 'Bellini', 'Buxtehude', 'Bernstein']\n",
    "list.sort(p)\n",
    "print(p) #answer of 2d"
   ]
  },
  {
   "cell_type": "markdown",
   "id": "c022abe2",
   "metadata": {},
   "source": [
    "Bartok will come first and Buxtehude will come last after sorting of list"
   ]
  },
  {
   "cell_type": "markdown",
   "id": "a065c5f2",
   "metadata": {},
   "source": [
    "# Question 3"
   ]
  },
  {
   "cell_type": "markdown",
   "id": "e7852739",
   "metadata": {},
   "source": [
    "Implement function triangleArea(a,b,c) that takes as input the lengths of the 3\n",
    "sides of a triangle and returns the area of the triangle. By Heron's formula, the area\n",
    "of a triangle with side lengths a, b, and c is\n",
    "s(s - a)(s -b)(s -c)\n",
    ", where\n",
    "s = (a+b+c)/2. "
   ]
  },
  {
   "cell_type": "code",
   "execution_count": 104,
   "id": "4c0d224e",
   "metadata": {},
   "outputs": [
    {
     "name": "stdout",
     "output_type": "stream",
     "text": [
      "Enter side 1 : 10\n",
      "Enter side 2 : 12\n",
      "Enter side 3 : 20\n",
      "Calculation of Herson's formula: 45.59605246071199\n"
     ]
    }
   ],
   "source": [
    "# enter sides\n",
    "import math\n",
    "x = float(input('Enter side 1 : '))\n",
    "y = float(input('Enter side 2 : '))\n",
    "z = float(input('Enter side 3 : '))\n",
    "\n",
    "\n",
    "s=(x+y+z)/2\n",
    "\n",
    "area = math.sqrt(s*(s-x)*(s-y)*(s-z))\n",
    "\n",
    "print(f\"Calculation of Herson's formula: {area}\")"
   ]
  },
  {
   "cell_type": "markdown",
   "id": "8838c533",
   "metadata": {},
   "source": [
    "# Question 4\n",
    "Write a program in python to separate odd and even integers in separate arrays. Go\n",
    "to the editor"
   ]
  },
  {
   "cell_type": "code",
   "execution_count": 4,
   "id": "b3dfe9ff",
   "metadata": {},
   "outputs": [
    {
     "name": "stdout",
     "output_type": "stream",
     "text": [
      "The Even Elements are : [92, 26, 92]\n",
      "The Odd Elements are : [35, 87]\n"
     ]
    }
   ],
   "source": [
    "all_elements = [35,87,92,26,92]\n",
    "even = []\n",
    "odd = []\n",
    "for elem in all_elements:\n",
    "    if elem % 2 == 0:\n",
    "        even.append(elem)\n",
    "    else:\n",
    "        odd.append(elem)\n",
    "        \n",
    "print(\"The Even Elements are :\",even)\n",
    "print(\"The Odd Elements are :\",odd)"
   ]
  },
  {
   "cell_type": "markdown",
   "id": "f95d30fd",
   "metadata": {},
   "source": [
    "# Question 5\n"
   ]
  },
  {
   "cell_type": "markdown",
   "id": "26e64b35",
   "metadata": {},
   "source": [
    "Write a function inside(x,y,x1,y1,x2,y2) that returns True or False \n",
    "depending on whether the point (x,y) lies in the rectangle with lower left \n",
    "corner (x1,y1) and upper right corner (x2,y2).\n"
   ]
  },
  {
   "cell_type": "code",
   "execution_count": 1,
   "id": "2fdbd399",
   "metadata": {},
   "outputs": [
    {
     "data": {
      "text/plain": [
       "True"
      ]
     },
     "execution_count": 1,
     "metadata": {},
     "output_type": "execute_result"
    }
   ],
   "source": [
    "def inside(x,y,x1,y1,x2,y2) :\n",
    "    if (x > x1 and x < x2 and y > y1 and y < y2) :\n",
    "        return True\n",
    "    else :\n",
    "        return False\n",
    "inside(1,1,0,0,2,3)"
   ]
  },
  {
   "cell_type": "code",
   "execution_count": 2,
   "id": "4fc82fb1",
   "metadata": {},
   "outputs": [
    {
     "data": {
      "text/plain": [
       "False"
      ]
     },
     "execution_count": 2,
     "metadata": {},
     "output_type": "execute_result"
    }
   ],
   "source": [
    "def inside(x,y,x1,y1,x2,y2) :\n",
    "    if (x > x1 and x < x2 and y > y1 and y < y2) :\n",
    "        return True\n",
    "    else :\n",
    "        return False\n",
    "inside(-1,-1,0,0,2,3)"
   ]
  },
  {
   "cell_type": "markdown",
   "id": "03e53af3",
   "metadata": {},
   "source": [
    "# Question 6"
   ]
  },
  {
   "cell_type": "markdown",
   "id": "d6f06ca1",
   "metadata": {},
   "source": [
    "\n",
    "Write a function pig() that takes a word (i.e., a string) as input and returns its pig\u0002Latin form. Your function should still work if the input word contains upper case \n",
    "characters. Your output should always be lower case however"
   ]
  },
  {
   "cell_type": "code",
   "execution_count": 5,
   "id": "fa8b7e2d",
   "metadata": {},
   "outputs": [
    {
     "data": {
      "text/plain": [
       "'inkeshpay'"
      ]
     },
     "execution_count": 5,
     "metadata": {},
     "output_type": "execute_result"
    }
   ],
   "source": [
    "newstr= \"\"\n",
    "def pig(str):\n",
    "    str = str.lower()\n",
    "    if str[0] in \"aeiou\":\n",
    "        newstr = str + \"way\"\n",
    "        return newstr\n",
    "    else:\n",
    "        newstr = str[1:] + str[0] + \"ay\"\n",
    "        return newstr\n",
    "\n",
    "pig(\"pinkesh\")\n"
   ]
  },
  {
   "cell_type": "markdown",
   "id": "cfae260b",
   "metadata": {},
   "source": [
    "# Question 7"
   ]
  },
  {
   "cell_type": "markdown",
   "id": "cbdee4aa",
   "metadata": {},
   "source": [
    "File bloodtype1.txt records blood-types of patients (A, B, AB, O or OO) at a clinic. \n",
    "Write a function bldcount() that reads the file with name name and reports (i.e., \n",
    "prints) how many patients there are in each bloodtype."
   ]
  },
  {
   "cell_type": "code",
   "execution_count": 25,
   "id": "fd14b997",
   "metadata": {},
   "outputs": [
    {
     "name": "stdout",
     "output_type": "stream",
     "text": [
      "There are 15 patients of blood type A\n",
      "There are 1 patients of blood type B\n",
      "There are 13 patients of blood type AB\n",
      "There are 15 patients of blood type O\n",
      "There are 0 patients of blood type OO\n"
     ]
    }
   ],
   "source": [
    "f = open(\"D:\\\\summer 2022\\\\Data prodraming\\\\Week 1\\\\bloodtype.txt\")\n",
    "data = f.read()\n",
    "lst = data.split(\" \")\n",
    "acount = lst.count(\"A\")\n",
    "print(f\"There are {acount} patients of blood type A\")\n",
    "bcount = lst.count(\"B\")\n",
    "print(f\"There are {bcount} patients of blood type B\")\n",
    "abcount = lst.count(\"AB\")\n",
    "print(f\"There are {abcount} patients of blood type AB\")\n",
    "ocount = lst.count(\"O\")\n",
    "print(f\"There are {ocount} patients of blood type O\")\n",
    "oocount = lst.count(\"OO\")\n",
    "print(f\"There are {oocount} patients of blood type OO\")"
   ]
  },
  {
   "cell_type": "markdown",
   "id": "47ce0302",
   "metadata": {},
   "source": [
    "# Question 8"
   ]
  },
  {
   "cell_type": "markdown",
   "id": "0a05797e",
   "metadata": {},
   "source": [
    "Write a function curconv() that takes as input:\n",
    "1. a currency represented using a string (e.g., 'JPY' for the Japanese Yen or \n",
    "'EUR' for the Euro)\n",
    "2. an amount\n",
    "and then converts and returns the amount in US dollars."
   ]
  },
  {
   "cell_type": "code",
   "execution_count": 26,
   "id": "839237d9",
   "metadata": {},
   "outputs": [
    {
     "data": {
      "text/plain": [
       "14.826900000000002"
      ]
     },
     "execution_count": 26,
     "metadata": {},
     "output_type": "execute_result"
    }
   ],
   "source": [
    "f = open(\"D:\\\\summer 2022\\\\Data prodraming\\\\Week 1\\\\currencies.txt\")\n",
    "xlines = f.readlines()\n",
    "d = {}\n",
    "\n",
    "curr = {}\n",
    "for v in xlines:\n",
    "    k = v.split(\"\\t\")[0]\n",
    "    v = v.split(\"\\t\")[1]\n",
    "    d[k] = v\n",
    "    curr.update(d)\n",
    "# print(curr)\n",
    "\n",
    "def currcon(code,mon):\n",
    "    value = float(curr.get(code))*mon\n",
    "    return value\n",
    "currcon(\"SEK\",100)"
   ]
  },
  {
   "cell_type": "markdown",
   "id": "fc2a0923",
   "metadata": {},
   "source": [
    "# Question 9"
   ]
  },
  {
   "cell_type": "markdown",
   "id": "a23bb025",
   "metadata": {},
   "source": [
    "Each of the following will cause an exception (an error). Identify what type of \n",
    "exception each will cause."
   ]
  },
  {
   "cell_type": "raw",
   "id": "8ffd53a8",
   "metadata": {},
   "source": [
    "1) Trying to add incompatible variables, as in \n",
    "adding 6 + ‘a’\n",
    "= SyntaxError\n",
    "\n",
    "2)Referring to the 12th item of a list that has only 10 \n",
    "items\n",
    "= IndexError\n",
    "\n",
    "3)Using a value that is out of range for a function’s \n",
    "input, such as calling math.sqrt(-1.0)\n",
    "= NameError\n",
    "\n",
    "4)Using an undeclared variable, such as print(x)\n",
    "when x has not been defined\n",
    "= NameError\n",
    "\n",
    "5)Trying to open a file that does not exist, such as \n",
    "mistyping the file name or looking in the wrong \n",
    "directory.\n",
    "=IOError\n",
    "\n"
   ]
  },
  {
   "cell_type": "markdown",
   "id": "f9896145",
   "metadata": {},
   "source": [
    "# Question 9"
   ]
  },
  {
   "cell_type": "markdown",
   "id": "499b761d",
   "metadata": {},
   "source": [
    "Encryption is the process of hiding the meaning of a text by substituting letters in the \n",
    "message with other letters, according to some system. If the process is successful, no \n",
    "one but the intended recipient can understand the encrypted message. Cryptanalysis\n",
    "refers to attempts to undo the encryption, even if some details of the encryption are \n",
    "unknown (for example, if an encrypted message has been intercepted). The first step \n",
    "of cryptanalysis is often to build up a table of letter frequencies in the encrypted text. \n",
    "Assume that the string letters is already defined as \n",
    "'abcdefghijklmnopqrstuvwxyz'. Write a function called frequencies()\n",
    "that takes a string as its only parameter, and returns a list of integers, showing the \n",
    "number of times each character appears in the text. Your function may ignore any \n",
    "characters that are not in letters. "
   ]
  },
  {
   "cell_type": "code",
   "execution_count": 24,
   "id": "94bc7d4b",
   "metadata": {},
   "outputs": [
    {
     "name": "stdout",
     "output_type": "stream",
     "text": [
      "[1, 1, 1, 2, 1, 1, 1, 1, 1, 1, 1]\n"
     ]
    }
   ],
   "source": [
    "str  = 'abcdefghijklmnopqrstuvwxyz'\n",
    "d = {}\n",
    "count = {}\n",
    "def frequencies(s):\n",
    "    s = s.lower()\n",
    "    for c in s:\n",
    "        if c in str:\n",
    "            if c in count:\n",
    "                d[c] = d[c]+1\n",
    "            else:\n",
    "                d[c] = 1\n",
    "            count.update(d)\n",
    "            \n",
    "        \n",
    "frequencies(\"pinkeshkumar\")\n",
    "\n",
    "lst = list(count.values())\n",
    "print(lst)"
   ]
  },
  {
   "cell_type": "code",
   "execution_count": null,
   "id": "d6463268",
   "metadata": {},
   "outputs": [],
   "source": []
  }
 ],
 "metadata": {
  "kernelspec": {
   "display_name": "Python 3 (ipykernel)",
   "language": "python",
   "name": "python3"
  },
  "language_info": {
   "codemirror_mode": {
    "name": "ipython",
    "version": 3
   },
   "file_extension": ".py",
   "mimetype": "text/x-python",
   "name": "python",
   "nbconvert_exporter": "python",
   "pygments_lexer": "ipython3",
   "version": "3.9.7"
  }
 },
 "nbformat": 4,
 "nbformat_minor": 5
}
